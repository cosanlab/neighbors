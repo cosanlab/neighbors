{
 "cells": [
  {
   "cell_type": "markdown",
   "metadata": {},
   "source": [
    "# Usage Overview\n",
    "\n",
    "All toolbox algorithms operate on 2d pandas dataframes with rows as unique _users_ and columns as unique _items_. To illustrate basic model fitting and how we handle dense and sparse data differently, we'll use a small simple toy dataset for illustrative purposes."
   ]
  },
  {
   "cell_type": "code",
   "execution_count": 1,
   "metadata": {
    "ExecuteTime": {
     "end_time": "2021-04-08T01:24:48.002663Z",
     "start_time": "2021-04-08T01:24:47.107228Z"
    },
    "execution": {
     "iopub.execute_input": "2021-06-16T00:15:35.223490Z",
     "iopub.status.busy": "2021-06-16T00:15:35.223311Z",
     "iopub.status.idle": "2021-06-16T00:15:36.539359Z",
     "shell.execute_reply": "2021-06-16T00:15:36.538724Z",
     "shell.execute_reply.started": "2021-06-16T00:15:35.223467Z"
    },
    "tags": []
   },
   "outputs": [],
   "source": [
    "import numpy as np\n",
    "import pandas as pd\n",
    "from emotioncf import NNMF_sgd, create_user_item_matrix, estimate_performance"
   ]
  },
  {
   "cell_type": "code",
   "execution_count": 2,
   "metadata": {
    "ExecuteTime": {
     "end_time": "2021-04-08T01:24:48.045625Z",
     "start_time": "2021-04-08T01:24:48.004326Z"
    },
    "execution": {
     "iopub.execute_input": "2021-06-16T00:15:36.542513Z",
     "iopub.status.busy": "2021-06-16T00:15:36.542345Z",
     "iopub.status.idle": "2021-06-16T00:15:36.576744Z",
     "shell.execute_reply": "2021-06-16T00:15:36.576215Z",
     "shell.execute_reply.started": "2021-06-16T00:15:36.542494Z"
    },
    "tags": []
   },
   "outputs": [],
   "source": [
    "np.random.seed(0)\n",
    "ratings_dict = {\n",
    "    \"User\": [\n",
    "        \"A\",\"A\",\"A\",\"A\",\"A\",\"B\",\"B\",\"B\",\"B\",\"B\",\"C\",\"C\",\"C\",\"C\",\"C\",\n",
    "        \"D\",\"D\",\"D\",\"D\",\"D\",\"E\",\"E\",\"E\",\"E\",\"E\",\"F\",\"F\",\"F\",\"F\",\"F\"\n",
    "    ],\n",
    "    \"Item\": [1,2,3,4,5]*6,\n",
    "    \"Rating\": np.random.randint(1, 101, size=30)\n",
    "}\n",
    "df = pd.DataFrame(ratings_dict)\n",
    "mat = create_user_item_matrix(df)"
   ]
  },
  {
   "cell_type": "markdown",
   "metadata": {},
   "source": [
    "# Fitting a model to _dense_ data"
   ]
  },
  {
   "cell_type": "markdown",
   "metadata": {},
   "source": [
    "Here we have a user x item matrix of ratings. Each of **6 users** rated **5 items** on scale from 1-100. This is a _dense_ dataset because every user rated every item, i.e. no values are missing."
   ]
  },
  {
   "cell_type": "code",
   "execution_count": 3,
   "metadata": {
    "ExecuteTime": {
     "end_time": "2021-04-08T01:24:49.327186Z",
     "start_time": "2021-04-08T01:24:49.288705Z"
    },
    "execution": {
     "iopub.execute_input": "2021-06-16T00:15:38.130473Z",
     "iopub.status.busy": "2021-06-16T00:15:38.130202Z",
     "iopub.status.idle": "2021-06-16T00:15:38.171202Z",
     "shell.execute_reply": "2021-06-16T00:15:38.170560Z",
     "shell.execute_reply.started": "2021-06-16T00:15:38.130425Z"
    }
   },
   "outputs": [
    {
     "data": {
      "text/html": [
       "<div>\n",
       "<style scoped>\n",
       "    .dataframe tbody tr th:only-of-type {\n",
       "        vertical-align: middle;\n",
       "    }\n",
       "\n",
       "    .dataframe tbody tr th {\n",
       "        vertical-align: top;\n",
       "    }\n",
       "\n",
       "    .dataframe thead th {\n",
       "        text-align: right;\n",
       "    }\n",
       "</style>\n",
       "<table border=\"1\" class=\"dataframe\">\n",
       "  <thead>\n",
       "    <tr style=\"text-align: right;\">\n",
       "      <th>Item</th>\n",
       "      <th>1</th>\n",
       "      <th>2</th>\n",
       "      <th>3</th>\n",
       "      <th>4</th>\n",
       "      <th>5</th>\n",
       "    </tr>\n",
       "    <tr>\n",
       "      <th>User</th>\n",
       "      <th></th>\n",
       "      <th></th>\n",
       "      <th></th>\n",
       "      <th></th>\n",
       "      <th></th>\n",
       "    </tr>\n",
       "  </thead>\n",
       "  <tbody>\n",
       "    <tr>\n",
       "      <th>A</th>\n",
       "      <td>45</td>\n",
       "      <td>48</td>\n",
       "      <td>65</td>\n",
       "      <td>68</td>\n",
       "      <td>68</td>\n",
       "    </tr>\n",
       "    <tr>\n",
       "      <th>B</th>\n",
       "      <td>10</td>\n",
       "      <td>84</td>\n",
       "      <td>22</td>\n",
       "      <td>37</td>\n",
       "      <td>88</td>\n",
       "    </tr>\n",
       "    <tr>\n",
       "      <th>C</th>\n",
       "      <td>71</td>\n",
       "      <td>89</td>\n",
       "      <td>89</td>\n",
       "      <td>13</td>\n",
       "      <td>59</td>\n",
       "    </tr>\n",
       "    <tr>\n",
       "      <th>D</th>\n",
       "      <td>66</td>\n",
       "      <td>40</td>\n",
       "      <td>88</td>\n",
       "      <td>47</td>\n",
       "      <td>89</td>\n",
       "    </tr>\n",
       "    <tr>\n",
       "      <th>E</th>\n",
       "      <td>82</td>\n",
       "      <td>38</td>\n",
       "      <td>26</td>\n",
       "      <td>78</td>\n",
       "      <td>73</td>\n",
       "    </tr>\n",
       "    <tr>\n",
       "      <th>F</th>\n",
       "      <td>10</td>\n",
       "      <td>21</td>\n",
       "      <td>81</td>\n",
       "      <td>70</td>\n",
       "      <td>80</td>\n",
       "    </tr>\n",
       "  </tbody>\n",
       "</table>\n",
       "</div>"
      ],
      "text/plain": [
       "Item   1   2   3   4   5\n",
       "User                    \n",
       "A     45  48  65  68  68\n",
       "B     10  84  22  37  88\n",
       "C     71  89  89  13  59\n",
       "D     66  40  88  47  89\n",
       "E     82  38  26  78  73\n",
       "F     10  21  81  70  80"
      ]
     },
     "execution_count": 3,
     "metadata": {},
     "output_type": "execute_result"
    }
   ],
   "source": [
    "mat"
   ]
  },
  {
   "cell_type": "markdown",
   "metadata": {},
   "source": [
    "We can test how well collaborative filtering would work to recover data _if they were missing_ using the  `NNMF` algorithm trained via stochastic gradient descent. To do so, we can initialize a model and tell it to \"sparsify\" our data by masking out 25% of the values and retaining 75%. "
   ]
  },
  {
   "cell_type": "code",
   "execution_count": 23,
   "metadata": {
    "ExecuteTime": {
     "end_time": "2021-04-08T01:24:50.198631Z",
     "start_time": "2021-04-08T01:24:50.159970Z"
    },
    "execution": {
     "iopub.execute_input": "2021-06-16T00:25:56.940038Z",
     "iopub.status.busy": "2021-06-16T00:25:56.939808Z",
     "iopub.status.idle": "2021-06-16T00:25:57.031097Z",
     "shell.execute_reply": "2021-06-16T00:25:57.030503Z",
     "shell.execute_reply.started": "2021-06-16T00:25:56.940014Z"
    },
    "tags": []
   },
   "outputs": [],
   "source": [
    "model = NNMF_sgd(mat, n_mask_items=.25, random_state=0)"
   ]
  },
  {
   "cell_type": "markdown",
   "metadata": {},
   "source": [
    "We can see that this approximates a dataset in which each user only provided a rating for 4 of the 5 items. We're now going to fit a model to try to recover what these missing ratings *would have been*."
   ]
  },
  {
   "cell_type": "code",
   "execution_count": 24,
   "metadata": {
    "ExecuteTime": {
     "end_time": "2021-04-08T01:24:51.114753Z",
     "start_time": "2021-04-08T01:24:51.072580Z"
    },
    "execution": {
     "iopub.execute_input": "2021-06-16T00:25:58.911645Z",
     "iopub.status.busy": "2021-06-16T00:25:58.911413Z",
     "iopub.status.idle": "2021-06-16T00:25:58.952206Z",
     "shell.execute_reply": "2021-06-16T00:25:58.951481Z",
     "shell.execute_reply.started": "2021-06-16T00:25:58.911620Z"
    },
    "tags": []
   },
   "outputs": [
    {
     "data": {
      "text/html": [
       "<div>\n",
       "<style scoped>\n",
       "    .dataframe tbody tr th:only-of-type {\n",
       "        vertical-align: middle;\n",
       "    }\n",
       "\n",
       "    .dataframe tbody tr th {\n",
       "        vertical-align: top;\n",
       "    }\n",
       "\n",
       "    .dataframe thead th {\n",
       "        text-align: right;\n",
       "    }\n",
       "</style>\n",
       "<table border=\"1\" class=\"dataframe\">\n",
       "  <thead>\n",
       "    <tr style=\"text-align: right;\">\n",
       "      <th>Item</th>\n",
       "      <th>1</th>\n",
       "      <th>2</th>\n",
       "      <th>3</th>\n",
       "      <th>4</th>\n",
       "      <th>5</th>\n",
       "    </tr>\n",
       "    <tr>\n",
       "      <th>User</th>\n",
       "      <th></th>\n",
       "      <th></th>\n",
       "      <th></th>\n",
       "      <th></th>\n",
       "      <th></th>\n",
       "    </tr>\n",
       "  </thead>\n",
       "  <tbody>\n",
       "    <tr>\n",
       "      <th>A</th>\n",
       "      <td>45.0</td>\n",
       "      <td>48</td>\n",
       "      <td>65.0</td>\n",
       "      <td>68.0</td>\n",
       "      <td>NaN</td>\n",
       "    </tr>\n",
       "    <tr>\n",
       "      <th>B</th>\n",
       "      <td>10.0</td>\n",
       "      <td>84</td>\n",
       "      <td>22.0</td>\n",
       "      <td>NaN</td>\n",
       "      <td>88.0</td>\n",
       "    </tr>\n",
       "    <tr>\n",
       "      <th>C</th>\n",
       "      <td>71.0</td>\n",
       "      <td>89</td>\n",
       "      <td>NaN</td>\n",
       "      <td>13.0</td>\n",
       "      <td>59.0</td>\n",
       "    </tr>\n",
       "    <tr>\n",
       "      <th>D</th>\n",
       "      <td>66.0</td>\n",
       "      <td>40</td>\n",
       "      <td>88.0</td>\n",
       "      <td>NaN</td>\n",
       "      <td>89.0</td>\n",
       "    </tr>\n",
       "    <tr>\n",
       "      <th>E</th>\n",
       "      <td>NaN</td>\n",
       "      <td>38</td>\n",
       "      <td>26.0</td>\n",
       "      <td>78.0</td>\n",
       "      <td>73.0</td>\n",
       "    </tr>\n",
       "    <tr>\n",
       "      <th>F</th>\n",
       "      <td>10.0</td>\n",
       "      <td>21</td>\n",
       "      <td>NaN</td>\n",
       "      <td>70.0</td>\n",
       "      <td>80.0</td>\n",
       "    </tr>\n",
       "  </tbody>\n",
       "</table>\n",
       "</div>"
      ],
      "text/plain": [
       "Item     1   2     3     4     5\n",
       "User                            \n",
       "A     45.0  48  65.0  68.0   NaN\n",
       "B     10.0  84  22.0   NaN  88.0\n",
       "C     71.0  89   NaN  13.0  59.0\n",
       "D     66.0  40  88.0   NaN  89.0\n",
       "E      NaN  38  26.0  78.0  73.0\n",
       "F     10.0  21   NaN  70.0  80.0"
      ]
     },
     "execution_count": 24,
     "metadata": {},
     "output_type": "execute_result"
    }
   ],
   "source": [
    "model.masked_data"
   ]
  },
  {
   "cell_type": "code",
   "execution_count": 25,
   "metadata": {
    "ExecuteTime": {
     "end_time": "2021-04-08T01:24:51.445429Z",
     "start_time": "2021-04-08T01:24:51.239360Z"
    },
    "execution": {
     "iopub.execute_input": "2021-06-16T00:25:59.744719Z",
     "iopub.status.busy": "2021-06-16T00:25:59.744481Z",
     "iopub.status.idle": "2021-06-16T00:25:59.806646Z",
     "shell.execute_reply": "2021-06-16T00:25:59.806065Z",
     "shell.execute_reply.started": "2021-06-16T00:25:59.744694Z"
    },
    "tags": []
   },
   "outputs": [],
   "source": [
    "model.fit()"
   ]
  },
  {
   "cell_type": "markdown",
   "metadata": {},
   "source": [
    "## Examining model predictions"
   ]
  },
  {
   "cell_type": "markdown",
   "metadata": {},
   "source": [
    "Lets take a look the predicted ratings matrix. The model makes predictions for *every* user/item using _observed_ values. This enables the recovery of our _missing_ values."
   ]
  },
  {
   "cell_type": "code",
   "execution_count": 26,
   "metadata": {
    "ExecuteTime": {
     "end_time": "2021-04-08T01:24:52.710228Z",
     "start_time": "2021-04-08T01:24:52.667342Z"
    },
    "execution": {
     "iopub.execute_input": "2021-06-16T00:26:01.458761Z",
     "iopub.status.busy": "2021-06-16T00:26:01.458527Z",
     "iopub.status.idle": "2021-06-16T00:26:01.497133Z",
     "shell.execute_reply": "2021-06-16T00:26:01.496427Z",
     "shell.execute_reply.started": "2021-06-16T00:26:01.458737Z"
    },
    "tags": []
   },
   "outputs": [
    {
     "data": {
      "text/html": [
       "<div>\n",
       "<style scoped>\n",
       "    .dataframe tbody tr th:only-of-type {\n",
       "        vertical-align: middle;\n",
       "    }\n",
       "\n",
       "    .dataframe tbody tr th {\n",
       "        vertical-align: top;\n",
       "    }\n",
       "\n",
       "    .dataframe thead th {\n",
       "        text-align: right;\n",
       "    }\n",
       "</style>\n",
       "<table border=\"1\" class=\"dataframe\">\n",
       "  <thead>\n",
       "    <tr style=\"text-align: right;\">\n",
       "      <th>Item</th>\n",
       "      <th>1</th>\n",
       "      <th>2</th>\n",
       "      <th>3</th>\n",
       "      <th>4</th>\n",
       "      <th>5</th>\n",
       "    </tr>\n",
       "    <tr>\n",
       "      <th>User</th>\n",
       "      <th></th>\n",
       "      <th></th>\n",
       "      <th></th>\n",
       "      <th></th>\n",
       "      <th></th>\n",
       "    </tr>\n",
       "  </thead>\n",
       "  <tbody>\n",
       "    <tr>\n",
       "      <th>A</th>\n",
       "      <td>47.455101</td>\n",
       "      <td>48.105183</td>\n",
       "      <td>63.432343</td>\n",
       "      <td>67.962732</td>\n",
       "      <td>83.855940</td>\n",
       "    </tr>\n",
       "    <tr>\n",
       "      <th>B</th>\n",
       "      <td>12.603164</td>\n",
       "      <td>84.060939</td>\n",
       "      <td>22.116645</td>\n",
       "      <td>64.121674</td>\n",
       "      <td>88.015465</td>\n",
       "    </tr>\n",
       "    <tr>\n",
       "      <th>C</th>\n",
       "      <td>70.967138</td>\n",
       "      <td>88.974861</td>\n",
       "      <td>26.651709</td>\n",
       "      <td>21.775329</td>\n",
       "      <td>59.147026</td>\n",
       "    </tr>\n",
       "    <tr>\n",
       "      <th>D</th>\n",
       "      <td>64.724749</td>\n",
       "      <td>42.070695</td>\n",
       "      <td>88.795312</td>\n",
       "      <td>69.658166</td>\n",
       "      <td>89.013770</td>\n",
       "    </tr>\n",
       "    <tr>\n",
       "      <th>E</th>\n",
       "      <td>26.749797</td>\n",
       "      <td>37.901443</td>\n",
       "      <td>29.258709</td>\n",
       "      <td>78.034234</td>\n",
       "      <td>73.080366</td>\n",
       "    </tr>\n",
       "    <tr>\n",
       "      <th>F</th>\n",
       "      <td>12.030591</td>\n",
       "      <td>21.000420</td>\n",
       "      <td>19.065140</td>\n",
       "      <td>69.993217</td>\n",
       "      <td>80.050540</td>\n",
       "    </tr>\n",
       "  </tbody>\n",
       "</table>\n",
       "</div>"
      ],
      "text/plain": [
       "Item          1          2          3          4          5\n",
       "User                                                       \n",
       "A     47.455101  48.105183  63.432343  67.962732  83.855940\n",
       "B     12.603164  84.060939  22.116645  64.121674  88.015465\n",
       "C     70.967138  88.974861  26.651709  21.775329  59.147026\n",
       "D     64.724749  42.070695  88.795312  69.658166  89.013770\n",
       "E     26.749797  37.901443  29.258709  78.034234  73.080366\n",
       "F     12.030591  21.000420  19.065140  69.993217  80.050540"
      ]
     },
     "execution_count": 26,
     "metadata": {},
     "output_type": "execute_result"
    }
   ],
   "source": [
    "model.predictions"
   ]
  },
  {
   "cell_type": "markdown",
   "metadata": {},
   "source": [
    "We can calculate how well our model did using the `.score()` method. By default this calculates the root mean squared error (RMSE) of our predictions vs the  _true missing_ values, i.e. the 25% we masked out. Unlike other packages, we offer two ways of scoring predictions:\n",
    "\n",
    "1. _user_ model fit: this is the performance calculated _separately_ per user and then averaged. This approach is more common for calculating metrics in psychological and social science research. This is the default mode of scoring for `.score` so we need to call `.mean` on the result to average across user performance.\n",
    "2. _all_ model fit: this is the performance ignoring the fact that scores from the same user might be more similar. This is more commonly used in machine-learning or industry settings and returns a single scalar value. We can set `by_user=False` to obtain this mode of scoring.\n",
    "\n",
    "RMSE is interpretable as the average amount of error on the *original scale* of the data (1-100). We can see that the model easily learns to re-create the original (`observed`) ratings nearly perfectly, but its performance is lower on the unobserved ratings (`missing`)."
   ]
  },
  {
   "cell_type": "code",
   "execution_count": 27,
   "metadata": {
    "ExecuteTime": {
     "end_time": "2021-04-08T01:24:53.551395Z",
     "start_time": "2021-04-08T01:24:53.511726Z"
    },
    "execution": {
     "iopub.execute_input": "2021-06-16T00:26:03.598493Z",
     "iopub.status.busy": "2021-06-16T00:26:03.598268Z",
     "iopub.status.idle": "2021-06-16T00:26:03.638316Z",
     "shell.execute_reply": "2021-06-16T00:26:03.637570Z",
     "shell.execute_reply.started": "2021-06-16T00:26:03.598469Z"
    },
    "tags": []
   },
   "outputs": [
    {
     "name": "stdout",
     "output_type": "stream",
     "text": [
      "RMSE observed: 2.1759141262248343\n",
      "RMSE missing: User\n",
      "A    15.855940\n",
      "B    27.121674\n",
      "C    62.348291\n",
      "D    22.658166\n",
      "E    55.250203\n",
      "F    61.934860\n",
      "Name: rmse_missing, dtype: float64\n"
     ]
    }
   ],
   "source": [
    "print(f\"RMSE observed: {model.score(dataset='observed', by_user=False)}\")\n",
    "print(f\"RMSE missing: {model.score(dataset='missing')}\")"
   ]
  },
  {
   "cell_type": "markdown",
   "metadata": {},
   "source": [
    "## Evaluting Model Fit"
   ]
  },
  {
   "cell_type": "markdown",
   "metadata": {},
   "source": [
    "RMSE isn't the only performance metric we currently support. We can also calculate:\n",
    "\n",
    "- mean-absolute-error (MAE)\n",
    "- mean-squared-error (MSE)\n",
    "- pearson correlation\n",
    "Rather writing custom code to repeatedly call `.score()` for each metric and group, we provide a convenient `.summary()` method which will calculate all of these!"
   ]
  },
  {
   "cell_type": "code",
   "execution_count": 28,
   "metadata": {
    "ExecuteTime": {
     "end_time": "2021-04-08T01:24:55.296144Z",
     "start_time": "2021-04-08T01:24:55.189676Z"
    },
    "execution": {
     "iopub.execute_input": "2021-06-16T00:26:05.905491Z",
     "iopub.status.busy": "2021-06-16T00:26:05.905265Z",
     "iopub.status.idle": "2021-06-16T00:26:06.000145Z",
     "shell.execute_reply": "2021-06-16T00:26:05.999595Z",
     "shell.execute_reply.started": "2021-06-16T00:26:05.905466Z"
    },
    "tags": []
   },
   "outputs": [
    {
     "data": {
      "text/html": [
       "<div>\n",
       "<style scoped>\n",
       "    .dataframe tbody tr th:only-of-type {\n",
       "        vertical-align: middle;\n",
       "    }\n",
       "\n",
       "    .dataframe tbody tr th {\n",
       "        vertical-align: top;\n",
       "    }\n",
       "\n",
       "    .dataframe thead th {\n",
       "        text-align: right;\n",
       "    }\n",
       "</style>\n",
       "<table border=\"1\" class=\"dataframe\">\n",
       "  <thead>\n",
       "    <tr style=\"text-align: right;\">\n",
       "      <th></th>\n",
       "      <th>algorithm</th>\n",
       "      <th>dataset</th>\n",
       "      <th>group</th>\n",
       "      <th>metric</th>\n",
       "      <th>score</th>\n",
       "    </tr>\n",
       "  </thead>\n",
       "  <tbody>\n",
       "    <tr>\n",
       "      <th>0</th>\n",
       "      <td>NNMF_sgd</td>\n",
       "      <td>missing</td>\n",
       "      <td>all</td>\n",
       "      <td>correlation</td>\n",
       "      <td>-0.720794</td>\n",
       "    </tr>\n",
       "    <tr>\n",
       "      <th>1</th>\n",
       "      <td>NNMF_sgd</td>\n",
       "      <td>missing</td>\n",
       "      <td>all</td>\n",
       "      <td>mae</td>\n",
       "      <td>40.861522</td>\n",
       "    </tr>\n",
       "    <tr>\n",
       "      <th>2</th>\n",
       "      <td>NNMF_sgd</td>\n",
       "      <td>missing</td>\n",
       "      <td>all</td>\n",
       "      <td>mse</td>\n",
       "      <td>2046.034948</td>\n",
       "    </tr>\n",
       "    <tr>\n",
       "      <th>3</th>\n",
       "      <td>NNMF_sgd</td>\n",
       "      <td>missing</td>\n",
       "      <td>all</td>\n",
       "      <td>rmse</td>\n",
       "      <td>45.233118</td>\n",
       "    </tr>\n",
       "    <tr>\n",
       "      <th>4</th>\n",
       "      <td>NNMF_sgd</td>\n",
       "      <td>missing</td>\n",
       "      <td>user</td>\n",
       "      <td>correlation</td>\n",
       "      <td>NaN</td>\n",
       "    </tr>\n",
       "    <tr>\n",
       "      <th>5</th>\n",
       "      <td>NNMF_sgd</td>\n",
       "      <td>missing</td>\n",
       "      <td>user</td>\n",
       "      <td>mae</td>\n",
       "      <td>40.861522</td>\n",
       "    </tr>\n",
       "    <tr>\n",
       "      <th>6</th>\n",
       "      <td>NNMF_sgd</td>\n",
       "      <td>missing</td>\n",
       "      <td>user</td>\n",
       "      <td>mse</td>\n",
       "      <td>2046.034948</td>\n",
       "    </tr>\n",
       "    <tr>\n",
       "      <th>7</th>\n",
       "      <td>NNMF_sgd</td>\n",
       "      <td>missing</td>\n",
       "      <td>user</td>\n",
       "      <td>rmse</td>\n",
       "      <td>40.861522</td>\n",
       "    </tr>\n",
       "    <tr>\n",
       "      <th>8</th>\n",
       "      <td>NNMF_sgd</td>\n",
       "      <td>observed</td>\n",
       "      <td>all</td>\n",
       "      <td>correlation</td>\n",
       "      <td>0.997934</td>\n",
       "    </tr>\n",
       "    <tr>\n",
       "      <th>9</th>\n",
       "      <td>NNMF_sgd</td>\n",
       "      <td>observed</td>\n",
       "      <td>all</td>\n",
       "      <td>mae</td>\n",
       "      <td>1.069042</td>\n",
       "    </tr>\n",
       "    <tr>\n",
       "      <th>10</th>\n",
       "      <td>NNMF_sgd</td>\n",
       "      <td>observed</td>\n",
       "      <td>all</td>\n",
       "      <td>mse</td>\n",
       "      <td>4.734602</td>\n",
       "    </tr>\n",
       "    <tr>\n",
       "      <th>11</th>\n",
       "      <td>NNMF_sgd</td>\n",
       "      <td>observed</td>\n",
       "      <td>all</td>\n",
       "      <td>rmse</td>\n",
       "      <td>2.175914</td>\n",
       "    </tr>\n",
       "    <tr>\n",
       "      <th>12</th>\n",
       "      <td>NNMF_sgd</td>\n",
       "      <td>observed</td>\n",
       "      <td>user</td>\n",
       "      <td>correlation</td>\n",
       "      <td>0.998248</td>\n",
       "    </tr>\n",
       "    <tr>\n",
       "      <th>13</th>\n",
       "      <td>NNMF_sgd</td>\n",
       "      <td>observed</td>\n",
       "      <td>user</td>\n",
       "      <td>mae</td>\n",
       "      <td>1.069042</td>\n",
       "    </tr>\n",
       "    <tr>\n",
       "      <th>14</th>\n",
       "      <td>NNMF_sgd</td>\n",
       "      <td>observed</td>\n",
       "      <td>user</td>\n",
       "      <td>mse</td>\n",
       "      <td>4.734602</td>\n",
       "    </tr>\n",
       "    <tr>\n",
       "      <th>15</th>\n",
       "      <td>NNMF_sgd</td>\n",
       "      <td>observed</td>\n",
       "      <td>user</td>\n",
       "      <td>rmse</td>\n",
       "      <td>1.845792</td>\n",
       "    </tr>\n",
       "  </tbody>\n",
       "</table>\n",
       "</div>"
      ],
      "text/plain": [
       "   algorithm   dataset group       metric        score\n",
       "0   NNMF_sgd   missing   all  correlation    -0.720794\n",
       "1   NNMF_sgd   missing   all          mae    40.861522\n",
       "2   NNMF_sgd   missing   all          mse  2046.034948\n",
       "3   NNMF_sgd   missing   all         rmse    45.233118\n",
       "4   NNMF_sgd   missing  user  correlation          NaN\n",
       "5   NNMF_sgd   missing  user          mae    40.861522\n",
       "6   NNMF_sgd   missing  user          mse  2046.034948\n",
       "7   NNMF_sgd   missing  user         rmse    40.861522\n",
       "8   NNMF_sgd  observed   all  correlation     0.997934\n",
       "9   NNMF_sgd  observed   all          mae     1.069042\n",
       "10  NNMF_sgd  observed   all          mse     4.734602\n",
       "11  NNMF_sgd  observed   all         rmse     2.175914\n",
       "12  NNMF_sgd  observed  user  correlation     0.998248\n",
       "13  NNMF_sgd  observed  user          mae     1.069042\n",
       "14  NNMF_sgd  observed  user          mse     4.734602\n",
       "15  NNMF_sgd  observed  user         rmse     1.845792"
      ]
     },
     "execution_count": 28,
     "metadata": {},
     "output_type": "execute_result"
    }
   ],
   "source": [
    "model.summary()"
   ]
  },
  {
   "cell_type": "markdown",
   "metadata": {},
   "source": [
    "We also provide a `.plot_predictions` method for visualizing both performance and predicted ratings:"
   ]
  },
  {
   "cell_type": "code",
   "execution_count": 29,
   "metadata": {
    "execution": {
     "iopub.execute_input": "2021-06-16T00:26:19.104025Z",
     "iopub.status.busy": "2021-06-16T00:26:19.103789Z",
     "iopub.status.idle": "2021-06-16T00:26:19.634260Z",
     "shell.execute_reply": "2021-06-16T00:26:19.633815Z",
     "shell.execute_reply.started": "2021-06-16T00:26:19.104000Z"
    },
    "tags": []
   },
   "outputs": [
    {
     "data": {
      "image/png": "[encoded data removed]",
      "text/plain": [
       "<Figure size 1152x576 with 5 Axes>"
      ]
     },
     "metadata": {
      "image/png": {
       "height": 636,
       "width": 1137
      },
      "needs_background": "light"
     },
     "output_type": "display_data"
    }
   ],
   "source": [
    "model.plot_predictions();"
   ]
  },
  {
   "cell_type": "markdown",
   "metadata": {},
   "source": [
    "## Benchmarking Model Performance"
   ]
  },
  {
   "cell_type": "markdown",
   "metadata": {},
   "source": [
    "For benchmarking a model's performance given dense data, it's helpful to repeat the process above (masking, fitting, scoring) multiple times with different random masks. We can then compute the _average_ performance across these multiple runs to ensure that a model's performance isn't a fluke due to a particular combination of masked and unmasked data. \n",
    "\n",
    "For convenience we offer an `esimate_performance` function that does just that! Let's run it for 10 iterations with the same level of masking (75%)"
   ]
  },
  {
   "cell_type": "code",
   "execution_count": 10,
   "metadata": {
    "ExecuteTime": {
     "end_time": "2021-04-08T01:24:56.889710Z",
     "start_time": "2021-04-08T01:24:56.494575Z"
    }
   },
   "outputs": [
    {
     "name": "stdout",
     "output_type": "stream",
     "text": [
      "Data sparsity is 0.0%. Using random masking...\n"
     ]
    }
   ],
   "source": [
    "all_results = estimate_performance(\n",
    "    NNMF_sgd, mat, n_iter=10, n_mask_items=.75\n",
    ")"
   ]
  },
  {
   "cell_type": "markdown",
   "metadata": {},
   "source": [
    "We can see now that the performance we observed above on `missing` data was a \"lucky\" overestimate. After rerunning the estimation with different random masks, the mean performance drops substantially and there's quite a bit of variance. This is because our dataset is a small toy example."
   ]
  },
  {
   "cell_type": "code",
   "execution_count": 11,
   "metadata": {
    "ExecuteTime": {
     "end_time": "2021-04-08T01:24:58.568694Z",
     "start_time": "2021-04-08T01:24:58.525334Z"
    }
   },
   "outputs": [
    {
     "data": {
      "text/html": [
       "<div>\n",
       "<style scoped>\n",
       "    .dataframe tbody tr th:only-of-type {\n",
       "        vertical-align: middle;\n",
       "    }\n",
       "\n",
       "    .dataframe tbody tr th {\n",
       "        vertical-align: top;\n",
       "    }\n",
       "\n",
       "    .dataframe thead th {\n",
       "        text-align: right;\n",
       "    }\n",
       "</style>\n",
       "<table border=\"1\" class=\"dataframe\">\n",
       "  <thead>\n",
       "    <tr style=\"text-align: right;\">\n",
       "      <th></th>\n",
       "      <th>algorithm</th>\n",
       "      <th>dataset</th>\n",
       "      <th>group</th>\n",
       "      <th>metric</th>\n",
       "      <th>mean</th>\n",
       "      <th>std</th>\n",
       "    </tr>\n",
       "  </thead>\n",
       "  <tbody>\n",
       "    <tr>\n",
       "      <th>0</th>\n",
       "      <td>NNMF_sgd</td>\n",
       "      <td>missing</td>\n",
       "      <td>all</td>\n",
       "      <td>correlation</td>\n",
       "      <td>0.020123</td>\n",
       "      <td>0.222994</td>\n",
       "    </tr>\n",
       "    <tr>\n",
       "      <th>1</th>\n",
       "      <td>NNMF_sgd</td>\n",
       "      <td>missing</td>\n",
       "      <td>all</td>\n",
       "      <td>mae</td>\n",
       "      <td>25.765061</td>\n",
       "      <td>3.621663</td>\n",
       "    </tr>\n",
       "    <tr>\n",
       "      <th>2</th>\n",
       "      <td>NNMF_sgd</td>\n",
       "      <td>missing</td>\n",
       "      <td>all</td>\n",
       "      <td>mse</td>\n",
       "      <td>901.831463</td>\n",
       "      <td>200.084612</td>\n",
       "    </tr>\n",
       "    <tr>\n",
       "      <th>3</th>\n",
       "      <td>NNMF_sgd</td>\n",
       "      <td>missing</td>\n",
       "      <td>all</td>\n",
       "      <td>rmse</td>\n",
       "      <td>29.865007</td>\n",
       "      <td>3.318769</td>\n",
       "    </tr>\n",
       "    <tr>\n",
       "      <th>4</th>\n",
       "      <td>NNMF_sgd</td>\n",
       "      <td>missing</td>\n",
       "      <td>user</td>\n",
       "      <td>correlation</td>\n",
       "      <td>0.090882</td>\n",
       "      <td>0.156474</td>\n",
       "    </tr>\n",
       "    <tr>\n",
       "      <th>5</th>\n",
       "      <td>NNMF_sgd</td>\n",
       "      <td>missing</td>\n",
       "      <td>user</td>\n",
       "      <td>mae</td>\n",
       "      <td>25.765061</td>\n",
       "      <td>3.621663</td>\n",
       "    </tr>\n",
       "    <tr>\n",
       "      <th>6</th>\n",
       "      <td>NNMF_sgd</td>\n",
       "      <td>missing</td>\n",
       "      <td>user</td>\n",
       "      <td>mse</td>\n",
       "      <td>901.831463</td>\n",
       "      <td>200.084612</td>\n",
       "    </tr>\n",
       "    <tr>\n",
       "      <th>7</th>\n",
       "      <td>NNMF_sgd</td>\n",
       "      <td>missing</td>\n",
       "      <td>user</td>\n",
       "      <td>rmse</td>\n",
       "      <td>28.831973</td>\n",
       "      <td>3.523668</td>\n",
       "    </tr>\n",
       "  </tbody>\n",
       "</table>\n",
       "</div>"
      ],
      "text/plain": [
       "  algorithm  dataset group       metric        mean         std\n",
       "0  NNMF_sgd  missing   all  correlation    0.020123    0.222994\n",
       "1  NNMF_sgd  missing   all          mae   25.765061    3.621663\n",
       "2  NNMF_sgd  missing   all          mse  901.831463  200.084612\n",
       "3  NNMF_sgd  missing   all         rmse   29.865007    3.318769\n",
       "4  NNMF_sgd  missing  user  correlation    0.090882    0.156474\n",
       "5  NNMF_sgd  missing  user          mae   25.765061    3.621663\n",
       "6  NNMF_sgd  missing  user          mse  901.831463  200.084612\n",
       "7  NNMF_sgd  missing  user         rmse   28.831973    3.523668"
      ]
     },
     "execution_count": 11,
     "metadata": {},
     "output_type": "execute_result"
    }
   ],
   "source": [
    "all_results"
   ]
  },
  {
   "cell_type": "markdown",
   "metadata": {},
   "source": [
    "By default `estimate_performance` only returns performance `missing` data. To see performance on all subsets use `return_full_performance = True`. You can also use `return_agg=False` if you want to see performance for each iteration separately."
   ]
  },
  {
   "cell_type": "code",
   "execution_count": 12,
   "metadata": {
    "ExecuteTime": {
     "end_time": "2021-04-08T01:25:00.848859Z",
     "start_time": "2021-04-08T01:25:00.331295Z"
    }
   },
   "outputs": [
    {
     "name": "stdout",
     "output_type": "stream",
     "text": [
      "Data sparsity is 0.0%. Using random masking...\n"
     ]
    },
    {
     "data": {
      "text/html": [
       "<div>\n",
       "<style scoped>\n",
       "    .dataframe tbody tr th:only-of-type {\n",
       "        vertical-align: middle;\n",
       "    }\n",
       "\n",
       "    .dataframe tbody tr th {\n",
       "        vertical-align: top;\n",
       "    }\n",
       "\n",
       "    .dataframe thead th {\n",
       "        text-align: right;\n",
       "    }\n",
       "</style>\n",
       "<table border=\"1\" class=\"dataframe\">\n",
       "  <thead>\n",
       "    <tr style=\"text-align: right;\">\n",
       "      <th></th>\n",
       "      <th>algorithm</th>\n",
       "      <th>dataset</th>\n",
       "      <th>group</th>\n",
       "      <th>metric</th>\n",
       "      <th>mean</th>\n",
       "      <th>std</th>\n",
       "    </tr>\n",
       "  </thead>\n",
       "  <tbody>\n",
       "    <tr>\n",
       "      <th>0</th>\n",
       "      <td>NNMF_sgd</td>\n",
       "      <td>missing</td>\n",
       "      <td>all</td>\n",
       "      <td>correlation</td>\n",
       "      <td>0.016681</td>\n",
       "      <td>0.182794</td>\n",
       "    </tr>\n",
       "    <tr>\n",
       "      <th>1</th>\n",
       "      <td>NNMF_sgd</td>\n",
       "      <td>missing</td>\n",
       "      <td>all</td>\n",
       "      <td>mae</td>\n",
       "      <td>24.209396</td>\n",
       "      <td>2.128677</td>\n",
       "    </tr>\n",
       "    <tr>\n",
       "      <th>2</th>\n",
       "      <td>NNMF_sgd</td>\n",
       "      <td>missing</td>\n",
       "      <td>all</td>\n",
       "      <td>mse</td>\n",
       "      <td>815.364682</td>\n",
       "      <td>107.265136</td>\n",
       "    </tr>\n",
       "    <tr>\n",
       "      <th>3</th>\n",
       "      <td>NNMF_sgd</td>\n",
       "      <td>missing</td>\n",
       "      <td>all</td>\n",
       "      <td>rmse</td>\n",
       "      <td>28.500079</td>\n",
       "      <td>1.858964</td>\n",
       "    </tr>\n",
       "    <tr>\n",
       "      <th>4</th>\n",
       "      <td>NNMF_sgd</td>\n",
       "      <td>missing</td>\n",
       "      <td>user</td>\n",
       "      <td>correlation</td>\n",
       "      <td>0.164990</td>\n",
       "      <td>0.244858</td>\n",
       "    </tr>\n",
       "    <tr>\n",
       "      <th>5</th>\n",
       "      <td>NNMF_sgd</td>\n",
       "      <td>missing</td>\n",
       "      <td>user</td>\n",
       "      <td>mae</td>\n",
       "      <td>24.209396</td>\n",
       "      <td>2.128677</td>\n",
       "    </tr>\n",
       "    <tr>\n",
       "      <th>6</th>\n",
       "      <td>NNMF_sgd</td>\n",
       "      <td>missing</td>\n",
       "      <td>user</td>\n",
       "      <td>mse</td>\n",
       "      <td>815.364682</td>\n",
       "      <td>107.265136</td>\n",
       "    </tr>\n",
       "    <tr>\n",
       "      <th>7</th>\n",
       "      <td>NNMF_sgd</td>\n",
       "      <td>missing</td>\n",
       "      <td>user</td>\n",
       "      <td>rmse</td>\n",
       "      <td>27.129655</td>\n",
       "      <td>2.036189</td>\n",
       "    </tr>\n",
       "    <tr>\n",
       "      <th>8</th>\n",
       "      <td>NNMF_sgd</td>\n",
       "      <td>observed</td>\n",
       "      <td>all</td>\n",
       "      <td>correlation</td>\n",
       "      <td>0.999998</td>\n",
       "      <td>0.000004</td>\n",
       "    </tr>\n",
       "    <tr>\n",
       "      <th>9</th>\n",
       "      <td>NNMF_sgd</td>\n",
       "      <td>observed</td>\n",
       "      <td>all</td>\n",
       "      <td>mae</td>\n",
       "      <td>0.007674</td>\n",
       "      <td>0.009798</td>\n",
       "    </tr>\n",
       "    <tr>\n",
       "      <th>10</th>\n",
       "      <td>NNMF_sgd</td>\n",
       "      <td>observed</td>\n",
       "      <td>all</td>\n",
       "      <td>mse</td>\n",
       "      <td>0.000781</td>\n",
       "      <td>0.001468</td>\n",
       "    </tr>\n",
       "    <tr>\n",
       "      <th>11</th>\n",
       "      <td>NNMF_sgd</td>\n",
       "      <td>observed</td>\n",
       "      <td>all</td>\n",
       "      <td>rmse</td>\n",
       "      <td>0.017186</td>\n",
       "      <td>0.023223</td>\n",
       "    </tr>\n",
       "    <tr>\n",
       "      <th>12</th>\n",
       "      <td>NNMF_sgd</td>\n",
       "      <td>observed</td>\n",
       "      <td>user</td>\n",
       "      <td>correlation</td>\n",
       "      <td>NaN</td>\n",
       "      <td>NaN</td>\n",
       "    </tr>\n",
       "    <tr>\n",
       "      <th>13</th>\n",
       "      <td>NNMF_sgd</td>\n",
       "      <td>observed</td>\n",
       "      <td>user</td>\n",
       "      <td>mae</td>\n",
       "      <td>0.007674</td>\n",
       "      <td>0.009798</td>\n",
       "    </tr>\n",
       "    <tr>\n",
       "      <th>14</th>\n",
       "      <td>NNMF_sgd</td>\n",
       "      <td>observed</td>\n",
       "      <td>user</td>\n",
       "      <td>mse</td>\n",
       "      <td>0.000781</td>\n",
       "      <td>0.001468</td>\n",
       "    </tr>\n",
       "    <tr>\n",
       "      <th>15</th>\n",
       "      <td>NNMF_sgd</td>\n",
       "      <td>observed</td>\n",
       "      <td>user</td>\n",
       "      <td>rmse</td>\n",
       "      <td>0.007674</td>\n",
       "      <td>0.009798</td>\n",
       "    </tr>\n",
       "  </tbody>\n",
       "</table>\n",
       "</div>"
      ],
      "text/plain": [
       "   algorithm   dataset group       metric        mean         std\n",
       "0   NNMF_sgd   missing   all  correlation    0.016681    0.182794\n",
       "1   NNMF_sgd   missing   all          mae   24.209396    2.128677\n",
       "2   NNMF_sgd   missing   all          mse  815.364682  107.265136\n",
       "3   NNMF_sgd   missing   all         rmse   28.500079    1.858964\n",
       "4   NNMF_sgd   missing  user  correlation    0.164990    0.244858\n",
       "5   NNMF_sgd   missing  user          mae   24.209396    2.128677\n",
       "6   NNMF_sgd   missing  user          mse  815.364682  107.265136\n",
       "7   NNMF_sgd   missing  user         rmse   27.129655    2.036189\n",
       "8   NNMF_sgd  observed   all  correlation    0.999998    0.000004\n",
       "9   NNMF_sgd  observed   all          mae    0.007674    0.009798\n",
       "10  NNMF_sgd  observed   all          mse    0.000781    0.001468\n",
       "11  NNMF_sgd  observed   all         rmse    0.017186    0.023223\n",
       "12  NNMF_sgd  observed  user  correlation         NaN         NaN\n",
       "13  NNMF_sgd  observed  user          mae    0.007674    0.009798\n",
       "14  NNMF_sgd  observed  user          mse    0.000781    0.001468\n",
       "15  NNMF_sgd  observed  user         rmse    0.007674    0.009798"
      ]
     },
     "execution_count": 12,
     "metadata": {},
     "output_type": "execute_result"
    }
   ],
   "source": [
    "estimate_performance(\n",
    "    NNMF_sgd, mat, n_iter=10, n_mask_items=0.75, return_full_performance=True\n",
    ")"
   ]
  },
  {
   "cell_type": "markdown",
   "metadata": {},
   "source": [
    "# Fitting a model to _sparse_ data"
   ]
  },
  {
   "cell_type": "markdown",
   "metadata": {},
   "source": [
    "While manually \"sparsifying\" a dense dataset is useful for benchmarking, in many scenarios data will _already_ be sparse and we won't have ground truth values to compare against. Of course models support this use case as well. This time when we intialize a model we don't pass in any thing for `n_mask_items`. Models are smart enough to raise an error if provided a sparse dataset and additional masking is requested."
   ]
  },
  {
   "cell_type": "code",
   "execution_count": 13,
   "metadata": {
    "ExecuteTime": {
     "end_time": "2021-04-08T01:25:02.524196Z",
     "start_time": "2021-04-08T01:25:02.478450Z"
    }
   },
   "outputs": [
    {
     "name": "stdout",
     "output_type": "stream",
     "text": [
      "data contains NaNs...treating as pre-masked\n"
     ]
    }
   ],
   "source": [
    "# Lets use our masked data from before as if it were a real dataset\n",
    "real_sparse_mat = model.masked_data\n",
    "\n",
    "new_model = NNMF_sgd(real_sparse_mat)"
   ]
  },
  {
   "cell_type": "markdown",
   "metadata": {},
   "source": [
    "Now we can proceed to fitting just like before, but there's a catch:\n",
    "\n",
    "this time we won't be able to obtain a score for the _missing_ data because we never observed it in the first place!"
   ]
  },
  {
   "cell_type": "code",
   "execution_count": 14,
   "metadata": {
    "ExecuteTime": {
     "end_time": "2021-04-08T01:25:04.535496Z",
     "start_time": "2021-04-08T01:25:04.470106Z"
    }
   },
   "outputs": [
    {
     "name": "stdout",
     "output_type": "stream",
     "text": [
      "RMSE observed: 0.010886168660715421\n",
      "RMSE all: 0.010886168660715421\n"
     ]
    }
   ],
   "source": [
    "new_model.fit()\n",
    "print(f\"RMSE observed: {new_model.score(dataset='observed')}\")\n",
    "print(f\"RMSE all: {new_model.score(dataset='full')}\")"
   ]
  },
  {
   "cell_type": "code",
   "execution_count": 15,
   "metadata": {
    "ExecuteTime": {
     "end_time": "2021-04-08T01:25:05.026151Z",
     "start_time": "2021-04-08T01:25:04.986870Z"
    }
   },
   "outputs": [
    {
     "name": "stdout",
     "output_type": "stream",
     "text": [
      "RMSE missing: None\n"
     ]
    },
    {
     "name": "stderr",
     "output_type": "stream",
     "text": [
      "/Users/Esh/Documents/pypackages/emotioncf/emotioncf/base.py:135: UserWarning: Cannot score predictions on missing data because true values were never observed!\n",
      "  warnings.warn(\n"
     ]
    }
   ],
   "source": [
    "print(f\"RMSE missing: {new_model.score(dataset='missing')}\")"
   ]
  },
  {
   "cell_type": "markdown",
   "metadata": {},
   "source": [
    "## Benchmarking Model Performance"
   ]
  },
  {
   "cell_type": "markdown",
   "metadata": {},
   "source": [
    "One popular approach to handle this scenario is to use _cross-validation_, whereby a model is estimated on a subset of the data (_train_ set) and evaluated on an independent subset (_test_ set). In a collaborative filtering context, standard methods to generate cross-validation folds, such as those provided by `sklearn` will not work. This is because we don't want to train on a subset of _users_ or a subset of _items_ (observations and features respectively in a typical supervised-learning situation). Instead, we want to predict new _combinations_ of users + items that we did not observe.\n",
    "\n",
    "To do this we can add _additional sparsity_ in a way keeps track of which user-item values we mask out in the training set to ensure that these values are \"un-masked\" in the testing set. By doing this we, can evaluate the performance of a model despite having sparse (missing) data to begin with!\n",
    "\n",
    "Using this approach we actually have 2 different kinds of sparsity: \n",
    "\n",
    "1. A value that was *never* observed and therefore doesn't exist at all in either train or test splits. By definition, there's no way for us to incorporate this into model evaluation. \n",
    "2. A value we _manually mask out_ when fitting the model (train set) and _unmask_ when we want to evaluate the model (test set). These observations will serve as the model's _generalization_ performance. "
   ]
  },
  {
   "cell_type": "markdown",
   "metadata": {},
   "source": [
    "Conveniently, `estimate_performance` is smart enough to realize your input dataset is sparse and will automatically switch to cross-validation. You can control the number of folds using the `n_folds` argument. All other arguments that only apply to dense data (e.g. `n_mask_item`) will be ignored.\n",
    "\n",
    "**Note**: keep in mind that using this approach will _increase_ the sparsity of an already sparse dataset!\n",
    "\n",
    "You can control the extent to which this happens using the `n_folds` parameter. More folds, means that the model is trained on _more_ data thereby decreasing the additional sparsity."
   ]
  },
  {
   "cell_type": "markdown",
   "metadata": {},
   "source": [
    "Here we run this using 10 folds which means that ~90% of the _observed_ values will be used for training the model and ~10% of the _observed_ values will be used for testing performance."
   ]
  },
  {
   "cell_type": "code",
   "execution_count": 16,
   "metadata": {
    "ExecuteTime": {
     "end_time": "2021-04-08T01:25:07.267883Z",
     "start_time": "2021-04-08T01:25:07.224908Z"
    }
   },
   "outputs": [
    {
     "data": {
      "text/html": [
       "<div>\n",
       "<style scoped>\n",
       "    .dataframe tbody tr th:only-of-type {\n",
       "        vertical-align: middle;\n",
       "    }\n",
       "\n",
       "    .dataframe tbody tr th {\n",
       "        vertical-align: top;\n",
       "    }\n",
       "\n",
       "    .dataframe thead th {\n",
       "        text-align: right;\n",
       "    }\n",
       "</style>\n",
       "<table border=\"1\" class=\"dataframe\">\n",
       "  <thead>\n",
       "    <tr style=\"text-align: right;\">\n",
       "      <th>Item</th>\n",
       "      <th>1</th>\n",
       "      <th>2</th>\n",
       "      <th>3</th>\n",
       "      <th>4</th>\n",
       "      <th>5</th>\n",
       "    </tr>\n",
       "    <tr>\n",
       "      <th>User</th>\n",
       "      <th></th>\n",
       "      <th></th>\n",
       "      <th></th>\n",
       "      <th></th>\n",
       "      <th></th>\n",
       "    </tr>\n",
       "  </thead>\n",
       "  <tbody>\n",
       "    <tr>\n",
       "      <th>A</th>\n",
       "      <td>45.0</td>\n",
       "      <td>48.0</td>\n",
       "      <td>NaN</td>\n",
       "      <td>68</td>\n",
       "      <td>68.0</td>\n",
       "    </tr>\n",
       "    <tr>\n",
       "      <th>B</th>\n",
       "      <td>10.0</td>\n",
       "      <td>NaN</td>\n",
       "      <td>22.0</td>\n",
       "      <td>37</td>\n",
       "      <td>88.0</td>\n",
       "    </tr>\n",
       "    <tr>\n",
       "      <th>C</th>\n",
       "      <td>NaN</td>\n",
       "      <td>89.0</td>\n",
       "      <td>89.0</td>\n",
       "      <td>13</td>\n",
       "      <td>59.0</td>\n",
       "    </tr>\n",
       "    <tr>\n",
       "      <th>D</th>\n",
       "      <td>66.0</td>\n",
       "      <td>NaN</td>\n",
       "      <td>88.0</td>\n",
       "      <td>47</td>\n",
       "      <td>89.0</td>\n",
       "    </tr>\n",
       "    <tr>\n",
       "      <th>E</th>\n",
       "      <td>82.0</td>\n",
       "      <td>38.0</td>\n",
       "      <td>NaN</td>\n",
       "      <td>78</td>\n",
       "      <td>73.0</td>\n",
       "    </tr>\n",
       "    <tr>\n",
       "      <th>F</th>\n",
       "      <td>10.0</td>\n",
       "      <td>21.0</td>\n",
       "      <td>81.0</td>\n",
       "      <td>70</td>\n",
       "      <td>NaN</td>\n",
       "    </tr>\n",
       "  </tbody>\n",
       "</table>\n",
       "</div>"
      ],
      "text/plain": [
       "Item     1     2     3   4     5\n",
       "User                            \n",
       "A     45.0  48.0   NaN  68  68.0\n",
       "B     10.0   NaN  22.0  37  88.0\n",
       "C      NaN  89.0  89.0  13  59.0\n",
       "D     66.0   NaN  88.0  47  89.0\n",
       "E     82.0  38.0   NaN  78  73.0\n",
       "F     10.0  21.0  81.0  70   NaN"
      ]
     },
     "execution_count": 16,
     "metadata": {},
     "output_type": "execute_result"
    }
   ],
   "source": [
    "real_sparse_mat"
   ]
  },
  {
   "cell_type": "code",
   "execution_count": 17,
   "metadata": {
    "ExecuteTime": {
     "end_time": "2021-04-08T01:25:08.806686Z",
     "start_time": "2021-04-08T01:25:08.470500Z"
    }
   },
   "outputs": [
    {
     "name": "stdout",
     "output_type": "stream",
     "text": [
      "Data sparsity is 20.0%. Using cross-validation...\n"
     ]
    }
   ],
   "source": [
    "cv_results = estimate_performance(NNMF_sgd, real_sparse_mat, n_folds=10)"
   ]
  },
  {
   "cell_type": "markdown",
   "metadata": {},
   "source": [
    "In this particular example, the performance of our model on unseen data drops even further because of how small our dataset was to begin with."
   ]
  },
  {
   "cell_type": "code",
   "execution_count": 18,
   "metadata": {
    "ExecuteTime": {
     "end_time": "2021-04-08T01:25:10.766705Z",
     "start_time": "2021-04-08T01:25:10.720921Z"
    }
   },
   "outputs": [
    {
     "data": {
      "text/html": [
       "<div>\n",
       "<style scoped>\n",
       "    .dataframe tbody tr th:only-of-type {\n",
       "        vertical-align: middle;\n",
       "    }\n",
       "\n",
       "    .dataframe tbody tr th {\n",
       "        vertical-align: top;\n",
       "    }\n",
       "\n",
       "    .dataframe thead th {\n",
       "        text-align: right;\n",
       "    }\n",
       "</style>\n",
       "<table border=\"1\" class=\"dataframe\">\n",
       "  <thead>\n",
       "    <tr style=\"text-align: right;\">\n",
       "      <th></th>\n",
       "      <th>algorithm</th>\n",
       "      <th>dataset</th>\n",
       "      <th>group</th>\n",
       "      <th>metric</th>\n",
       "      <th>mean</th>\n",
       "      <th>std</th>\n",
       "    </tr>\n",
       "  </thead>\n",
       "  <tbody>\n",
       "    <tr>\n",
       "      <th>0</th>\n",
       "      <td>NNMF_sgd</td>\n",
       "      <td>test</td>\n",
       "      <td>all</td>\n",
       "      <td>correlation</td>\n",
       "      <td>-0.758746</td>\n",
       "      <td>0.626376</td>\n",
       "    </tr>\n",
       "    <tr>\n",
       "      <th>1</th>\n",
       "      <td>NNMF_sgd</td>\n",
       "      <td>test</td>\n",
       "      <td>all</td>\n",
       "      <td>mae</td>\n",
       "      <td>36.619235</td>\n",
       "      <td>10.661269</td>\n",
       "    </tr>\n",
       "    <tr>\n",
       "      <th>2</th>\n",
       "      <td>NNMF_sgd</td>\n",
       "      <td>test</td>\n",
       "      <td>all</td>\n",
       "      <td>mse</td>\n",
       "      <td>1881.355182</td>\n",
       "      <td>823.004537</td>\n",
       "    </tr>\n",
       "    <tr>\n",
       "      <th>3</th>\n",
       "      <td>NNMF_sgd</td>\n",
       "      <td>test</td>\n",
       "      <td>all</td>\n",
       "      <td>rmse</td>\n",
       "      <td>42.014292</td>\n",
       "      <td>11.360480</td>\n",
       "    </tr>\n",
       "    <tr>\n",
       "      <th>4</th>\n",
       "      <td>NNMF_sgd</td>\n",
       "      <td>test</td>\n",
       "      <td>user</td>\n",
       "      <td>correlation</td>\n",
       "      <td>-1.000000</td>\n",
       "      <td>0.000000</td>\n",
       "    </tr>\n",
       "    <tr>\n",
       "      <th>5</th>\n",
       "      <td>NNMF_sgd</td>\n",
       "      <td>test</td>\n",
       "      <td>user</td>\n",
       "      <td>mae</td>\n",
       "      <td>35.503419</td>\n",
       "      <td>10.715971</td>\n",
       "    </tr>\n",
       "    <tr>\n",
       "      <th>6</th>\n",
       "      <td>NNMF_sgd</td>\n",
       "      <td>test</td>\n",
       "      <td>user</td>\n",
       "      <td>mse</td>\n",
       "      <td>1796.397237</td>\n",
       "      <td>840.016277</td>\n",
       "    </tr>\n",
       "    <tr>\n",
       "      <th>7</th>\n",
       "      <td>NNMF_sgd</td>\n",
       "      <td>test</td>\n",
       "      <td>user</td>\n",
       "      <td>rmse</td>\n",
       "      <td>35.842384</td>\n",
       "      <td>10.531357</td>\n",
       "    </tr>\n",
       "  </tbody>\n",
       "</table>\n",
       "</div>"
      ],
      "text/plain": [
       "  algorithm dataset group       metric         mean         std\n",
       "0  NNMF_sgd    test   all  correlation    -0.758746    0.626376\n",
       "1  NNMF_sgd    test   all          mae    36.619235   10.661269\n",
       "2  NNMF_sgd    test   all          mse  1881.355182  823.004537\n",
       "3  NNMF_sgd    test   all         rmse    42.014292   11.360480\n",
       "4  NNMF_sgd    test  user  correlation    -1.000000    0.000000\n",
       "5  NNMF_sgd    test  user          mae    35.503419   10.715971\n",
       "6  NNMF_sgd    test  user          mse  1796.397237  840.016277\n",
       "7  NNMF_sgd    test  user         rmse    35.842384   10.531357"
      ]
     },
     "execution_count": 18,
     "metadata": {},
     "output_type": "execute_result"
    }
   ],
   "source": [
    "cv_results"
   ]
  },
  {
   "cell_type": "markdown",
   "metadata": {},
   "source": [
    "Like before we can use `return_full_performance = True` and/or `return_agg=False` to see performance for all data subsets (i.e. test _and_ train) and separately per fold"
   ]
  },
  {
   "cell_type": "code",
   "execution_count": 19,
   "metadata": {
    "ExecuteTime": {
     "end_time": "2021-04-08T01:26:40.990784Z",
     "start_time": "2021-04-08T01:26:40.448460Z"
    }
   },
   "outputs": [
    {
     "name": "stdout",
     "output_type": "stream",
     "text": [
      "Data sparsity is 20.0%. Using cross-validation...\n"
     ]
    },
    {
     "data": {
      "text/html": [
       "<div>\n",
       "<style scoped>\n",
       "    .dataframe tbody tr th:only-of-type {\n",
       "        vertical-align: middle;\n",
       "    }\n",
       "\n",
       "    .dataframe tbody tr th {\n",
       "        vertical-align: top;\n",
       "    }\n",
       "\n",
       "    .dataframe thead th {\n",
       "        text-align: right;\n",
       "    }\n",
       "</style>\n",
       "<table border=\"1\" class=\"dataframe\">\n",
       "  <thead>\n",
       "    <tr style=\"text-align: right;\">\n",
       "      <th></th>\n",
       "      <th>algorithm</th>\n",
       "      <th>dataset</th>\n",
       "      <th>cv_fold</th>\n",
       "      <th>group</th>\n",
       "      <th>metric</th>\n",
       "      <th>score</th>\n",
       "    </tr>\n",
       "  </thead>\n",
       "  <tbody>\n",
       "    <tr>\n",
       "      <th>0</th>\n",
       "      <td>NNMF_sgd</td>\n",
       "      <td>test</td>\n",
       "      <td>1</td>\n",
       "      <td>all</td>\n",
       "      <td>correlation</td>\n",
       "      <td>NaN</td>\n",
       "    </tr>\n",
       "    <tr>\n",
       "      <th>1</th>\n",
       "      <td>NNMF_sgd</td>\n",
       "      <td>test</td>\n",
       "      <td>2</td>\n",
       "      <td>all</td>\n",
       "      <td>correlation</td>\n",
       "      <td>-1.000000</td>\n",
       "    </tr>\n",
       "    <tr>\n",
       "      <th>2</th>\n",
       "      <td>NNMF_sgd</td>\n",
       "      <td>test</td>\n",
       "      <td>3</td>\n",
       "      <td>all</td>\n",
       "      <td>correlation</td>\n",
       "      <td>-0.955540</td>\n",
       "    </tr>\n",
       "    <tr>\n",
       "      <th>3</th>\n",
       "      <td>NNMF_sgd</td>\n",
       "      <td>test</td>\n",
       "      <td>4</td>\n",
       "      <td>all</td>\n",
       "      <td>correlation</td>\n",
       "      <td>0.292516</td>\n",
       "    </tr>\n",
       "    <tr>\n",
       "      <th>4</th>\n",
       "      <td>NNMF_sgd</td>\n",
       "      <td>test</td>\n",
       "      <td>5</td>\n",
       "      <td>all</td>\n",
       "      <td>correlation</td>\n",
       "      <td>-0.624561</td>\n",
       "    </tr>\n",
       "    <tr>\n",
       "      <th>...</th>\n",
       "      <td>...</td>\n",
       "      <td>...</td>\n",
       "      <td>...</td>\n",
       "      <td>...</td>\n",
       "      <td>...</td>\n",
       "      <td>...</td>\n",
       "    </tr>\n",
       "    <tr>\n",
       "      <th>155</th>\n",
       "      <td>NNMF_sgd</td>\n",
       "      <td>train</td>\n",
       "      <td>6</td>\n",
       "      <td>user</td>\n",
       "      <td>rmse</td>\n",
       "      <td>0.007064</td>\n",
       "    </tr>\n",
       "    <tr>\n",
       "      <th>156</th>\n",
       "      <td>NNMF_sgd</td>\n",
       "      <td>train</td>\n",
       "      <td>7</td>\n",
       "      <td>user</td>\n",
       "      <td>rmse</td>\n",
       "      <td>0.016320</td>\n",
       "    </tr>\n",
       "    <tr>\n",
       "      <th>157</th>\n",
       "      <td>NNMF_sgd</td>\n",
       "      <td>train</td>\n",
       "      <td>8</td>\n",
       "      <td>user</td>\n",
       "      <td>rmse</td>\n",
       "      <td>0.003909</td>\n",
       "    </tr>\n",
       "    <tr>\n",
       "      <th>158</th>\n",
       "      <td>NNMF_sgd</td>\n",
       "      <td>train</td>\n",
       "      <td>9</td>\n",
       "      <td>user</td>\n",
       "      <td>rmse</td>\n",
       "      <td>0.005436</td>\n",
       "    </tr>\n",
       "    <tr>\n",
       "      <th>159</th>\n",
       "      <td>NNMF_sgd</td>\n",
       "      <td>train</td>\n",
       "      <td>10</td>\n",
       "      <td>user</td>\n",
       "      <td>rmse</td>\n",
       "      <td>0.002598</td>\n",
       "    </tr>\n",
       "  </tbody>\n",
       "</table>\n",
       "<p>160 rows × 6 columns</p>\n",
       "</div>"
      ],
      "text/plain": [
       "    algorithm dataset  cv_fold group       metric     score\n",
       "0    NNMF_sgd    test        1   all  correlation       NaN\n",
       "1    NNMF_sgd    test        2   all  correlation -1.000000\n",
       "2    NNMF_sgd    test        3   all  correlation -0.955540\n",
       "3    NNMF_sgd    test        4   all  correlation  0.292516\n",
       "4    NNMF_sgd    test        5   all  correlation -0.624561\n",
       "..        ...     ...      ...   ...          ...       ...\n",
       "155  NNMF_sgd   train        6  user         rmse  0.007064\n",
       "156  NNMF_sgd   train        7  user         rmse  0.016320\n",
       "157  NNMF_sgd   train        8  user         rmse  0.003909\n",
       "158  NNMF_sgd   train        9  user         rmse  0.005436\n",
       "159  NNMF_sgd   train       10  user         rmse  0.002598\n",
       "\n",
       "[160 rows x 6 columns]"
      ]
     },
     "execution_count": 19,
     "metadata": {},
     "output_type": "execute_result"
    }
   ],
   "source": [
    " estimate_performance(NNMF_sgd, real_sparse_mat, n_folds=10, return_agg=False, return_full_performance=True)"
   ]
  },
  {
   "cell_type": "markdown",
   "metadata": {},
   "source": [
    "# Concluding Thoughts"
   ]
  },
  {
   "cell_type": "markdown",
   "metadata": {},
   "source": [
    "This notebook has provided a full example of how to fit a model in several different ways. Here are a few parting tips to help you plan your own analyses:"
   ]
  },
  {
   "cell_type": "markdown",
   "metadata": {},
   "source": [
    "If you already have a _sparse_ dataset, use `estimate_performance` along with `n_folds` to help you assess how well collborative filtering works for your use case (at the cost of increasing sparsity during evaluation). This approach is the defacto standard in several other collaborative filtering toolboxes such as [Surprise](http://surpriselib.com/). \n",
    "\n",
    "If you're working with a small but _dense_ dataset, using `estimate_performance` with `n_iter` and `n_mask_items` provides you more fine grain control over exploring how different levels of sparsity affect performance This is useful when making new data collection or experimental design choices as it simulates how well a model will perform had your dataset been _sparse_.\n"
   ]
  }
 ],
 "metadata": {
  "kernelspec": {
   "display_name": "Python [conda env:collab_filter]",
   "language": "python",
   "name": "conda-env-collab_filter-py"
  },
  "language_info": {
   "codemirror_mode": {
    "name": "ipython",
    "version": 3
   },
   "file_extension": ".py",
   "mimetype": "text/x-python",
   "name": "python",
   "nbconvert_exporter": "python",
   "pygments_lexer": "ipython3",
   "version": "3.8.2"
  },
  "toc": {
   "base_numbering": 1,
   "nav_menu": {},
   "number_sections": false,
   "sideBar": true,
   "skip_h1_title": false,
   "title_cell": "Table of Contents",
   "title_sidebar": "Contents",
   "toc_cell": false,
   "toc_position": {},
   "toc_section_display": true,
   "toc_window_display": false
  }
 },
 "nbformat": 4,
 "nbformat_minor": 4
}
